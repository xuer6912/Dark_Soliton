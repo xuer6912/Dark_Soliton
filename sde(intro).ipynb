{
 "cells": [
  {
   "cell_type": "markdown",
   "metadata": {},
   "source": [
    "# 1. Brownian path 1"
   ]
  },
  {
   "cell_type": "code",
   "execution_count": null,
   "metadata": {},
   "outputs": [],
   "source": [
    "using Plots, Statistics"
   ]
  },
  {
   "cell_type": "code",
   "execution_count": null,
   "metadata": {},
   "outputs": [],
   "source": [
    "T=1\n",
    "N=500\n",
    "dt= T/N\n",
    "dW=zeros(N,1)\n",
    "W=zeros(N,1);\n",
    "\n",
    "dW[1]= (sqrt(dt) * randn())\n",
    "W[1]=dW[1]\n",
    "\n",
    "for j= 2:N\n",
    "    dW[j]= (sqrt(dt)*randn())\n",
    "    W[j]=W[j-1] + dW[j]\n",
    "end\n",
    "\n",
    "plot(LinRange(0,T,N),W)"
   ]
  },
  {
   "cell_type": "code",
   "execution_count": null,
   "metadata": {},
   "outputs": [],
   "source": [
    "randn()"
   ]
  },
  {
   "cell_type": "markdown",
   "metadata": {},
   "source": [
    "# 2. Brownian path 2: vectorized"
   ]
  },
  {
   "cell_type": "code",
   "execution_count": null,
   "metadata": {},
   "outputs": [],
   "source": [
    "T=1\n",
    "N=500\n",
    "dt= T/N\n",
    "\n",
    "dW = sqrt(dt)* randn(N,1)\n",
    "W = cumsum(dW;dims=1)\n",
    "\n",
    "plot(LinRange(0,T,N),W)"
   ]
  },
  {
   "cell_type": "markdown",
   "metadata": {},
   "source": [
    "# 3. Function along a Brownian path "
   ]
  },
  {
   "cell_type": "code",
   "execution_count": null,
   "metadata": {},
   "outputs": [],
   "source": [
    "] add Statistics"
   ]
  },
  {
   "cell_type": "code",
   "execution_count": null,
   "metadata": {},
   "outputs": [],
   "source": [
    "using Statistics, LaTeXStrings"
   ]
  },
  {
   "cell_type": "code",
   "execution_count": null,
   "metadata": {},
   "outputs": [],
   "source": [
    "T=1 ;N=500 ;dt= T/N ;t= dt:dt:1\n",
    "M=1000\n",
    "dW= sqrt(dt)*randn(N,M)\n",
    "W = cumsum(dW,dims=1)\n",
    "U = exp.(repeat(t,1,M)+0.5 *W)\n",
    "Umean=mean(U,dims=2)\n",
    "plot(t,Umean)\n",
    "plot!(t,U[:,1:5])\n",
    "xlabel!(L\"t\")\n",
    "ylabel!(L\"U(t)\")\n",
    "averr=norm()"
   ]
  },
  {
   "cell_type": "markdown",
   "metadata": {},
   "source": []
  },
  {
   "cell_type": "markdown",
   "metadata": {},
   "source": [
    "# 4. Ito and Stratonovich integral"
   ]
  },
  {
   "cell_type": "code",
   "execution_count": null,
   "metadata": {},
   "outputs": [],
   "source": [
    "T=1 ;N=500 ;dt= T/N ;t= dt:dt:1\n",
    "M=1000\n",
    "dW= sqrt(dt)*randn(N)\n",
    "W = cumsum(dW,dims=1)\n",
    "\n",
    "ito= sum([0 ; W[1:end-1]].* dW)\n",
    "strat = sum( ( 0.5 * (([0 ; W[1:end-1]]+W)  + 0.5*sqrt(dt)*randn(N)) .*dW ))\n",
    "\n",
    "itoerr = abs(ito - 0.5*(W[end]^2-T)); straterr = abs(strat - 0.5*(W[end]^2))\n",
    "(itoerr,straterr)"
   ]
  },
  {
   "cell_type": "markdown",
   "metadata": {},
   "source": [
    "# 5. Euler-Maruyama method on linear SDE"
   ]
  },
  {
   "cell_type": "code",
   "execution_count": null,
   "metadata": {},
   "outputs": [],
   "source": [
    "λ = 2\n",
    "μ = 1\n",
    "X0=1\n",
    "T = 1; N = 2^8; dt = 1/N\n",
    "dW = sqrt(dt)*randn(N)\n",
    "W = cumsum(dW)\n",
    "\n",
    "Xtrue = X0*exp.((λ - 0.5*μ^2)*(dt:dt:T)+μ*W)\n",
    "plot(0:dt:T,[X0;Xtrue])\n",
    "\n",
    "R=4 ; Dt = R*dt; L = N/R |> Int\n",
    "Xem = zeros(L )\n",
    "Xtemp = copy(X0);\n",
    "for j = 1:L\n",
    "    Winc = sum(dW[(R*(j-1)+1:R*j) |>Array{Int}]);\n",
    "    Xtemp = Xtemp + Dt*λ + μ*Xtemp*Winc;\n",
    "    Xem[j]=Xtemp\n",
    "end\n",
    "\n",
    "plot!(0:Dt:T, [X0;Xem])\n",
    "\n"
   ]
  },
  {
   "cell_type": "code",
   "execution_count": null,
   "metadata": {},
   "outputs": [],
   "source": [
    "emerr = abs(Xem[end]-Xtrue[end])\n",
    "\n"
   ]
  },
  {
   "cell_type": "code",
   "execution_count": null,
   "metadata": {},
   "outputs": [],
   "source": []
  },
  {
   "cell_type": "markdown",
   "metadata": {},
   "source": [
    "# 6. Test strong convergence of EM\n",
    "\n"
   ]
  },
  {
   "cell_type": "code",
   "execution_count": null,
   "metadata": {},
   "outputs": [],
   "source": [
    "λ = 2\n",
    "μ = 1\n",
    "Xzero=1\n",
    "T = 1; N = 2^8; dt = 1/N\n",
    "M=1000\n",
    "Xerr= zeros(5,M)\n",
    "for s = 1:M\n",
    "    dW = sqrt(dt)*randn(N)\n",
    "    W=cumsum(dW)\n",
    "    Xtrue = Xzero * exp((λ-0.5μ^2)+μ*W[end])\n",
    "    for p = 1:5\n",
    "        R = 2^(p-1); Dt = R*dt; L = N/R\n",
    "        Xtemp = Xzero;\n",
    "        for j = 1:L\n",
    "            Winc = sum(dW[(R*(j-1)+1:R*j)|>Array{Int64}])\n",
    "            Xtemp = Xtemp + Dt*λ*Xtemp + μ*Xtemp*Winc\n",
    "        end\n",
    "        Xerr[p,s] = abs(Xtemp - Xtrue)\n",
    "    end\n",
    "end"
   ]
  },
  {
   "cell_type": "code",
   "execution_count": null,
   "metadata": {},
   "outputs": [],
   "source": [
    "Dtvals = dt*(2 .^(0:4))\n",
    "p1 = plot(Dtvals,mean(Xerr,dims=2), xaxis=:log, yaxis=:log)\n",
    "p2 = plot!(Dtvals, (Dtvals.^(.5)) , xaxis=:log, yaxis=:log)\n"
   ]
  },
  {
   "cell_type": "markdown",
   "metadata": {},
   "source": [
    "# 7. EMweak"
   ]
  },
  {
   "cell_type": "code",
   "execution_count": null,
   "metadata": {},
   "outputs": [],
   "source": [
    "λ = 2 ; μ = 1 ; Xzero=1\n",
    "T = 1 ; M=50000\n",
    "Xem = zeros(5)\n",
    "for p = 1:5\n",
    "    Dt = 2. ^(p-10); L = T/Dt\n",
    "    Xtemp = Xzero*ones(M) #?\n",
    "    for j = 1:L\n",
    "        Winc = sqrt(Dt)*randn(M)\n",
    "        Xtemp = Xtemp + Dt*λ*Xtemp + μ*Xtemp .* Winc\n",
    "    end\n",
    "    Xem[p] = mean(Xtemp)\n",
    "end\n",
    "Xerr = abs.(Xem .- exp(λ))\n",
    "\n",
    "Dtvals = 2.0 .^((1:5) .- 10)\n",
    "\n",
    "p1 = plot(Dtvals,Xerr , xaxis=:log, yaxis=:log)\n",
    "p2 = plot!(Dtvals, Dtvals ,xaxis=:log, yaxis=:log)\n",
    "\n"
   ]
  },
  {
   "cell_type": "markdown",
   "metadata": {},
   "source": [
    "# 8.Strong convergence of Milstein "
   ]
  },
  {
   "cell_type": "code",
   "execution_count": null,
   "metadata": {},
   "outputs": [],
   "source": [
    "r = 2; K = 1; β = 0.25; X0 = 0.5;\n",
    "T = 1; N = 2^(11); dt = T/N;\n",
    "M = 500;\n",
    "R = [1; 16; 32; 64; 128]\n",
    "dW = sqrt(dt)*randn(M,N)\n",
    "Xmil = zeros(M,5)\n",
    "#record=[]\n",
    "for p = 1:5\n",
    "    Dt = R[p]*dt; L = N/R[p]\n",
    "    Xtemp = X0 * ones(M)\n",
    "    for  j = 1:L\n",
    "         Winc = sum(dW[:,(R[p]*(j-1)+1:R[p]*j)|>Array{Int64}],dims=2)\n",
    "         Xtemp = Xtemp + Dt*r*Xtemp.*(K .- Xtemp) + β * (Xtemp .* Winc) +  (0.5 * β.^2.0 ).*(Xtemp .* (Winc.^2 .- Dt))\n",
    "         #push!(record,Xtemp)\n",
    "    end\n",
    "    Xmil[:,p] = Xtemp\n",
    "end\n",
    "\n"
   ]
  },
  {
   "cell_type": "code",
   "execution_count": null,
   "metadata": {},
   "outputs": [],
   "source": [
    "Xref = Xmil[:,1]\n",
    "Xerr = abs.(Xmil[:,2:5] - repeat(Xref,1,4))\n",
    "Xmean = mean(Xerr,dims = 1)'\n",
    "Dtvals = dt*R[2:5]\n",
    "plot(Dtvals,Xmean, xaxis =:log,yaxis =:log)\n",
    "plot(Dtvals,Dtvals,)"
   ]
  },
  {
   "cell_type": "code",
   "execution_count": null,
   "metadata": {},
   "outputs": [],
   "source": [
    "Xmean"
   ]
  },
  {
   "cell_type": "markdown",
   "metadata": {},
   "source": [
    "# Mean-square and asymptotic ability test for E-M\n",
    "\n",
    "dX=$\\lambda$ * X dt + $\\mu$ * X dW\n",
    "X(0) = 1\n",
    "\n",
    "$\\lambda, \\mu$ =Const"
   ]
  },
  {
   "cell_type": "code",
   "execution_count": 3,
   "metadata": {},
   "outputs": [],
   "source": [
    "T = 20.; M = 50000; X0 = 1.\n",
    "λ = -3.; μ = sqrt(3);"
   ]
  },
  {
   "cell_type": "code",
   "execution_count": null,
   "metadata": {},
   "outputs": [],
   "source": [
    "for k = 1:3\n",
    "    Dt = 2. .^(1-k)\n",
    "    N = (T/Dt)|> Int64\n",
    "    Xms = zeros(N) ; Xtemp = X0*ones(M);\n",
    "    for j = 1:N\n",
    "        Winc = sqrt(Dt)*randn(M)\n",
    "        Xtemp = Xtemp + (Dt*λ)*Xtemp + μ*(Xtemp.*Winc)\n",
    "        Xms[j] = mean(Xtemp.^2)\n",
    "    end\n",
    "    plot((0:Dt:T),[X0;Xms],yaxis=:log)\n",
    "end"
   ]
  },
  {
   "cell_type": "code",
   "execution_count": null,
   "metadata": {},
   "outputs": [],
   "source": []
  },
  {
   "cell_type": "code",
   "execution_count": null,
   "metadata": {},
   "outputs": [],
   "source": []
  }
 ],
 "metadata": {
  "@webio": {
   "lastCommId": null,
   "lastKernelId": null
  },
  "kernelspec": {
   "display_name": "Julia 1.5.2",
   "language": "julia",
   "name": "julia-1.5"
  },
  "language_info": {
   "file_extension": ".jl",
   "mimetype": "application/julia",
   "name": "julia",
   "version": "1.5.2"
  }
 },
 "nbformat": 4,
 "nbformat_minor": 2
}
